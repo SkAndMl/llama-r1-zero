{
 "cells": [
  {
   "cell_type": "code",
   "execution_count": 1,
   "metadata": {},
   "outputs": [
    {
     "name": "stderr",
     "output_type": "stream",
     "text": [
      "/Users/sathyakrishnansuresh/Desktop/llama-r1-zero/venv/lib/python3.11/site-packages/tqdm/auto.py:21: TqdmWarning: IProgress not found. Please update jupyter and ipywidgets. See https://ipywidgets.readthedocs.io/en/stable/user_install.html\n",
      "  from .autonotebook import tqdm as notebook_tqdm\n"
     ]
    },
    {
     "data": {
      "text/plain": [
       "True"
      ]
     },
     "execution_count": 1,
     "metadata": {},
     "output_type": "execute_result"
    }
   ],
   "source": [
    "from dotenv import load_dotenv, find_dotenv\n",
    "from llama_r1_zero.llama import Llama\n",
    "from llama_r1_zero.grpo import GRPOLoss\n",
    "from llama_r1_zero.prompts import SYSTEM_PROMPT\n",
    "from llama_r1_zero.rewards import accuracy_reward, format_reward, complexity_reward, similarity_reward\n",
    "import os\n",
    "import json\n",
    "import random\n",
    "\n",
    "load_dotenv(find_dotenv())"
   ]
  },
  {
   "cell_type": "code",
   "execution_count": 2,
   "metadata": {},
   "outputs": [],
   "source": [
    "llama = Llama.build(\n",
    "    ckpt_dir=os.environ.get(\"MODEL_PATH\"),\n",
    "    max_batch_size=4,\n",
    "    max_seq_len=1024\n",
    ")\n",
    "\n",
    "\n",
    "grpo_loss = GRPOLoss(\n",
    "    tokenizer=llama.tokenizer,\n",
    "    system_prompt=SYSTEM_PROMPT,\n",
    "    reward_funcs=[accuracy_reward, format_reward, complexity_reward, similarity_reward],\n",
    "    num_generations=2,\n",
    "    max_new_tokens=768\n",
    ")"
   ]
  },
  {
   "cell_type": "code",
   "execution_count": 3,
   "metadata": {},
   "outputs": [],
   "source": [
    "with open('data/gsm8k_train.jsonl', 'r') as f:\n",
    "    math_qns = [json.loads(line) for line in f]"
   ]
  },
  {
   "cell_type": "code",
   "execution_count": 4,
   "metadata": {},
   "outputs": [
    {
     "name": "stdout",
     "output_type": "stream",
     "text": [
      "metrics: {'reward': [0.9187671542167664], 'reward_std': [0.7020941376686096], 'kl': [0.0]}\n",
      "loss: 1.4901161193847656e-07\n"
     ]
    }
   ],
   "source": [
    "qns = random.sample(math_qns, k=2)\n",
    "\n",
    "loss = grpo_loss.compute_loss(\n",
    "    model=llama,\n",
    "    prompts=[qn['question'] for qn in qns],\n",
    "    ground_truths=[qn['answer'] for qn in qns]\n",
    ")\n",
    "\n",
    "print(f'metrics: {grpo_loss.metrics}')\n",
    "print(f'loss: {loss}')"
   ]
  }
 ],
 "metadata": {
  "kernelspec": {
   "display_name": "venv",
   "language": "python",
   "name": "python3"
  },
  "language_info": {
   "codemirror_mode": {
    "name": "ipython",
    "version": 3
   },
   "file_extension": ".py",
   "mimetype": "text/x-python",
   "name": "python",
   "nbconvert_exporter": "python",
   "pygments_lexer": "ipython3",
   "version": "3.11.10"
  }
 },
 "nbformat": 4,
 "nbformat_minor": 2
}
