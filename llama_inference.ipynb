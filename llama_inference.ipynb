{
 "cells": [
  {
   "cell_type": "code",
   "execution_count": 1,
   "metadata": {},
   "outputs": [
    {
     "data": {
      "text/plain": [
       "True"
      ]
     },
     "execution_count": 1,
     "metadata": {},
     "output_type": "execute_result"
    }
   ],
   "source": [
    "from dotenv import load_dotenv, find_dotenv\n",
    "from llama_r1_zero.llama import Llama\n",
    "import os\n",
    "import json\n",
    "import random\n",
    "import re\n",
    "from rich.console import Console\n",
    "from rich.table import Table\n",
    "\n",
    "load_dotenv(find_dotenv())"
   ]
  },
  {
   "cell_type": "code",
   "execution_count": 2,
   "metadata": {},
   "outputs": [],
   "source": [
    "llama = Llama.build(\n",
    "    ckpt_dir=os.environ.get(\"MODEL_PATH\"),\n",
    "    max_batch_size=2,\n",
    "    max_seq_len=1024\n",
    ")"
   ]
  },
  {
   "cell_type": "code",
   "execution_count": 3,
   "metadata": {},
   "outputs": [
    {
     "data": {
      "text/plain": [
       "(7470, 12679)"
      ]
     },
     "execution_count": 3,
     "metadata": {},
     "output_type": "execute_result"
    }
   ],
   "source": [
    "with open(\"data/gsm8k_train.jsonl\", \"r\") as f1, open(\"data/sciq_train.jsonl\", \"r\") as f2:\n",
    "    math = []\n",
    "    sci = []\n",
    "    for line in f1:\n",
    "        math.append(json.loads(line))\n",
    "    for line in f2:\n",
    "        sci.append(json.loads(line))\n",
    "\n",
    "len(math), len(sci) "
   ]
  },
  {
   "cell_type": "code",
   "execution_count": 4,
   "metadata": {},
   "outputs": [
    {
     "data": {
      "text/plain": [
       "{'question': 'Natalia sold clips to 48 of her friends in April, and then she sold half as many clips in May. How many clips did Natalia sell altogether in April and May?',\n",
       " 'answer': '72'}"
      ]
     },
     "execution_count": 4,
     "metadata": {},
     "output_type": "execute_result"
    }
   ],
   "source": [
    "math[0]"
   ]
  },
  {
   "cell_type": "code",
   "execution_count": 11,
   "metadata": {},
   "outputs": [],
   "source": [
    "# some parts generated using gpt-4o :)\n",
    "SYSTEM_PROMPT = \"\"\"\n",
    "You are a reasoning model, which given a question thinks before generating the final answer. \n",
    "The reasoning to answer the question MUST be within the '<think>' tags and the final, concise answer must be within the '<answer>' tags\n",
    "\n",
    "Guidelines for Reasoning:\n",
    "\t1.\tBreak Down the Problem – Analyze the query carefully, identifying key components.\n",
    "\t2.\tLogical Deduction – Apply reasoning, knowledge, or calculations to arrive at an informed answer.\n",
    "\t3.\tUncertainty Handling – If applicable, explicitly state assumptions or degrees of confidence.\n",
    "\t4.\tExplain Thought Process – Ensure reasoning is transparent and verifiable.\n",
    "\n",
    "Guidelines for Output:\n",
    "\t1. The thinking part should be within '<think>' and '</think>' tags.\n",
    "    2. The final, concise answer content should be within '<answer>' and '</answer>' tags.\n",
    "\n",
    "Following is an example:\n",
    "Question: \n",
    "What is the derivative of  f(x) = x^2 + 3x ?\n",
    "Response: \n",
    "<think>To find the derivative of \\( f(x) = x^2 + 3x \\), we differentiate each term separately:\n",
    "- The derivative of \\( x^2 \\) is \\( 2x \\).\n",
    "- The derivative of \\( 3x \\) is \\( 3 \\).\n",
    "Thus, the derivative of \\( f(x) \\) is \\( f'(x) = 2x + 3 \\).</think><answer>2x + 3</answer>\n",
    "\"\"\""
   ]
  },
  {
   "cell_type": "code",
   "execution_count": 12,
   "metadata": {},
   "outputs": [],
   "source": [
    "def sample_and_print():\n",
    "    console = Console()\n",
    "\n",
    "    sample_math = random.sample(math, k=1)[0]\n",
    "    sample_sci = random.sample(sci, k=1)[0]\n",
    "\n",
    "    think_pt = r'<think>(.*?)</think>'\n",
    "    answer_pt = r'<answer>(.*?)</answer>'\n",
    "\n",
    "    actual_answers = [sample_math['answer'], sample_sci['answer']]\n",
    "    prompts = [\n",
    "        [\n",
    "            {\"role\": \"system\", \"content\": SYSTEM_PROMPT},\n",
    "            {\"role\": \"user\", \"content\": f\"Question: {sample_math['question']}\"}\n",
    "        ],\n",
    "        [\n",
    "            {\"role\": \"system\", \"content\": SYSTEM_PROMPT},\n",
    "            {\"role\": \"user\", \"content\": f\"Question: {sample_sci['question']}\"}\n",
    "        ]\n",
    "    ]\n",
    "\n",
    "    completions: list[str] = llama.text_completion(prompts=prompts, temperature=0.1)\n",
    "\n",
    "    table = Table(show_header=True, header_style=\"bold cyan\")\n",
    "    table.add_column(\"Question\", style=\"dim\", width=40)\n",
    "    table.add_column(\"Thinking\", style=\"yellow\", width=40)\n",
    "    table.add_column(\"LLM Answer\", style=\"green\", width=30)\n",
    "    table.add_column(\"Actual Answer\", style=\"bold magenta\", width=20)\n",
    "\n",
    "    for i, completion in enumerate(completions):\n",
    "        think_match = re.search(think_pt, completion, re.DOTALL)\n",
    "        think_text = think_match.group(1).strip() if think_match else \"Not Found\"\n",
    "\n",
    "        final_answer_match = re.search(answer_pt, completion)\n",
    "        final_answer = final_answer_match.group(1).strip() if final_answer_match else completion\n",
    "\n",
    "       \n",
    "        table.add_row(\n",
    "            prompts[i][1]['content'],\n",
    "            think_text, \n",
    "            final_answer,  \n",
    "            actual_answers[i]  \n",
    "        )\n",
    "\n",
    "    console.print(table)"
   ]
  },
  {
   "cell_type": "code",
   "execution_count": 13,
   "metadata": {},
   "outputs": [
    {
     "data": {
      "text/html": [
       "<pre style=\"white-space:pre;overflow-x:auto;line-height:normal;font-family:Menlo,'DejaVu Sans Mono',consolas,'Courier New',monospace\">┏━━━━━━━━━━━━━━━━━━━━━━━━━━━━━━━━━━━┳━━━━━━━━━━━━━━━━━━━━━━━━━━━━━━━━━━━┳━━━━━━━━━━━━━━━━━━━━━━━━━┳━━━━━━━━━━━━━━━┓\n",
       "┃<span style=\"color: #008080; text-decoration-color: #008080; font-weight: bold\"> Question                          </span>┃<span style=\"color: #008080; text-decoration-color: #008080; font-weight: bold\"> Thinking                          </span>┃<span style=\"color: #008080; text-decoration-color: #008080; font-weight: bold\"> LLM Answer              </span>┃<span style=\"color: #008080; text-decoration-color: #008080; font-weight: bold\"> Actual Answer </span>┃\n",
       "┡━━━━━━━━━━━━━━━━━━━━━━━━━━━━━━━━━━━╇━━━━━━━━━━━━━━━━━━━━━━━━━━━━━━━━━━━╇━━━━━━━━━━━━━━━━━━━━━━━━━╇━━━━━━━━━━━━━━━┩\n",
       "│<span style=\"color: #7f7f7f; text-decoration-color: #7f7f7f\"> Question: Troy is thinking of     </span>│<span style=\"color: #808000; text-decoration-color: #808000\"> Troy initially saved $50 and      </span>│<span style=\"color: #008000; text-decoration-color: #008000\"> $10                     </span>│<span style=\"color: #800080; text-decoration-color: #800080; font-weight: bold\"> 10            </span>│\n",
       "│<span style=\"color: #7f7f7f; text-decoration-color: #7f7f7f\"> buying a new computer that is     </span>│<span style=\"color: #808000; text-decoration-color: #808000\"> plans to sell his old computer    </span>│<span style=\"color: #008000; text-decoration-color: #008000\">                         </span>│<span style=\"color: #800080; text-decoration-color: #800080; font-weight: bold\">               </span>│\n",
       "│<span style=\"color: #7f7f7f; text-decoration-color: #7f7f7f\"> worth $80. He has initially saved </span>│<span style=\"color: #808000; text-decoration-color: #808000\"> for $20. To find out how much     </span>│<span style=\"color: #008000; text-decoration-color: #008000\">                         </span>│<span style=\"color: #800080; text-decoration-color: #800080; font-weight: bold\">               </span>│\n",
       "│<span style=\"color: #7f7f7f; text-decoration-color: #7f7f7f\"> $50 and plans to sell his old     </span>│<span style=\"color: #808000; text-decoration-color: #808000\"> more money he needs, we need to   </span>│<span style=\"color: #008000; text-decoration-color: #008000\">                         </span>│<span style=\"color: #800080; text-decoration-color: #800080; font-weight: bold\">               </span>│\n",
       "│<span style=\"color: #7f7f7f; text-decoration-color: #7f7f7f\"> computer for $20. How much more   </span>│<span style=\"color: #808000; text-decoration-color: #808000\"> subtract the amount he has from   </span>│<span style=\"color: #008000; text-decoration-color: #008000\">                         </span>│<span style=\"color: #800080; text-decoration-color: #800080; font-weight: bold\">               </span>│\n",
       "│<span style=\"color: #7f7f7f; text-decoration-color: #7f7f7f\"> money does he need so he could    </span>│<span style=\"color: #808000; text-decoration-color: #808000\"> the price of the new computer:    </span>│<span style=\"color: #008000; text-decoration-color: #008000\">                         </span>│<span style=\"color: #800080; text-decoration-color: #800080; font-weight: bold\">               </span>│\n",
       "│<span style=\"color: #7f7f7f; text-decoration-color: #7f7f7f\"> buy the new computer?             </span>│<span style=\"color: #808000; text-decoration-color: #808000\"> - The price of the new computer   </span>│<span style=\"color: #008000; text-decoration-color: #008000\">                         </span>│<span style=\"color: #800080; text-decoration-color: #800080; font-weight: bold\">               </span>│\n",
       "│<span style=\"color: #7f7f7f; text-decoration-color: #7f7f7f\">                                   </span>│<span style=\"color: #808000; text-decoration-color: #808000\"> is $80.                           </span>│<span style=\"color: #008000; text-decoration-color: #008000\">                         </span>│<span style=\"color: #800080; text-decoration-color: #800080; font-weight: bold\">               </span>│\n",
       "│<span style=\"color: #7f7f7f; text-decoration-color: #7f7f7f\">                                   </span>│<span style=\"color: #808000; text-decoration-color: #808000\"> - Troy has $50 initially.         </span>│<span style=\"color: #008000; text-decoration-color: #008000\">                         </span>│<span style=\"color: #800080; text-decoration-color: #800080; font-weight: bold\">               </span>│\n",
       "│<span style=\"color: #7f7f7f; text-decoration-color: #7f7f7f\">                                   </span>│<span style=\"color: #808000; text-decoration-color: #808000\"> - He plans to sell his old        </span>│<span style=\"color: #008000; text-decoration-color: #008000\">                         </span>│<span style=\"color: #800080; text-decoration-color: #800080; font-weight: bold\">               </span>│\n",
       "│<span style=\"color: #7f7f7f; text-decoration-color: #7f7f7f\">                                   </span>│<span style=\"color: #808000; text-decoration-color: #808000\"> computer for $20.                 </span>│<span style=\"color: #008000; text-decoration-color: #008000\">                         </span>│<span style=\"color: #800080; text-decoration-color: #800080; font-weight: bold\">               </span>│\n",
       "│<span style=\"color: #7f7f7f; text-decoration-color: #7f7f7f\">                                   </span>│<span style=\"color: #808000; text-decoration-color: #808000\"> Thus, the amount he needs is $80  </span>│<span style=\"color: #008000; text-decoration-color: #008000\">                         </span>│<span style=\"color: #800080; text-decoration-color: #800080; font-weight: bold\">               </span>│\n",
       "│<span style=\"color: #7f7f7f; text-decoration-color: #7f7f7f\">                                   </span>│<span style=\"color: #808000; text-decoration-color: #808000\"> - $50 - $20 = $10.                </span>│<span style=\"color: #008000; text-decoration-color: #008000\">                         </span>│<span style=\"color: #800080; text-decoration-color: #800080; font-weight: bold\">               </span>│\n",
       "│<span style=\"color: #7f7f7f; text-decoration-color: #7f7f7f\"> Question: Where do organisms      </span>│<span style=\"color: #808000; text-decoration-color: #808000\"> To acquire toxic substances,      </span>│<span style=\"color: #008000; text-decoration-color: #008000\"> Organisms acquire toxic </span>│<span style=\"color: #800080; text-decoration-color: #800080; font-weight: bold\"> environment   </span>│\n",
       "│<span style=\"color: #7f7f7f; text-decoration-color: #7f7f7f\"> acquire toxic substances from     </span>│<span style=\"color: #808000; text-decoration-color: #808000\"> organisms typically obtain them   </span>│<span style=\"color: #008000; text-decoration-color: #008000\"> substances from their   </span>│<span style=\"color: #800080; text-decoration-color: #800080; font-weight: bold\">               </span>│\n",
       "│<span style=\"color: #7f7f7f; text-decoration-color: #7f7f7f\"> along with nutrients and water?   </span>│<span style=\"color: #808000; text-decoration-color: #808000\"> from their environment, such as   </span>│<span style=\"color: #008000; text-decoration-color: #008000\"> environment, such as    </span>│<span style=\"color: #800080; text-decoration-color: #800080; font-weight: bold\">               </span>│\n",
       "│<span style=\"color: #7f7f7f; text-decoration-color: #7f7f7f\">                                   </span>│<span style=\"color: #808000; text-decoration-color: #808000\"> through the consumption of        </span>│<span style=\"color: #008000; text-decoration-color: #008000\"> through the consumption </span>│<span style=\"color: #800080; text-decoration-color: #800080; font-weight: bold\">               </span>│\n",
       "│<span style=\"color: #7f7f7f; text-decoration-color: #7f7f7f\">                                   </span>│<span style=\"color: #808000; text-decoration-color: #808000\"> contaminated food, water, or air. </span>│<span style=\"color: #008000; text-decoration-color: #008000\"> of contaminated food,   </span>│<span style=\"color: #800080; text-decoration-color: #800080; font-weight: bold\">               </span>│\n",
       "│<span style=\"color: #7f7f7f; text-decoration-color: #7f7f7f\">                                   </span>│<span style=\"color: #808000; text-decoration-color: #808000\"> These toxic substances can come   </span>│<span style=\"color: #008000; text-decoration-color: #008000\"> water, or air, and from </span>│<span style=\"color: #800080; text-decoration-color: #800080; font-weight: bold\">               </span>│\n",
       "│<span style=\"color: #7f7f7f; text-decoration-color: #7f7f7f\">                                   </span>│<span style=\"color: #808000; text-decoration-color: #808000\"> from various sources, including   </span>│<span style=\"color: #008000; text-decoration-color: #008000\"> other organisms that    </span>│<span style=\"color: #800080; text-decoration-color: #800080; font-weight: bold\">               </span>│\n",
       "│<span style=\"color: #7f7f7f; text-decoration-color: #7f7f7f\">                                   </span>│<span style=\"color: #808000; text-decoration-color: #808000\"> pollutants, toxins, and           </span>│<span style=\"color: #008000; text-decoration-color: #008000\"> have ingested toxic     </span>│<span style=\"color: #800080; text-decoration-color: #800080; font-weight: bold\">               </span>│\n",
       "│<span style=\"color: #7f7f7f; text-decoration-color: #7f7f7f\">                                   </span>│<span style=\"color: #808000; text-decoration-color: #808000\"> pathogens. For example, some      </span>│<span style=\"color: #008000; text-decoration-color: #008000\"> substances.             </span>│<span style=\"color: #800080; text-decoration-color: #800080; font-weight: bold\">               </span>│\n",
       "│<span style=\"color: #7f7f7f; text-decoration-color: #7f7f7f\">                                   </span>│<span style=\"color: #808000; text-decoration-color: #808000\"> organisms may acquire toxic       </span>│<span style=\"color: #008000; text-decoration-color: #008000\">                         </span>│<span style=\"color: #800080; text-decoration-color: #800080; font-weight: bold\">               </span>│\n",
       "│<span style=\"color: #7f7f7f; text-decoration-color: #7f7f7f\">                                   </span>│<span style=\"color: #808000; text-decoration-color: #808000\"> substances from contaminated      </span>│<span style=\"color: #008000; text-decoration-color: #008000\">                         </span>│<span style=\"color: #800080; text-decoration-color: #800080; font-weight: bold\">               </span>│\n",
       "│<span style=\"color: #7f7f7f; text-decoration-color: #7f7f7f\">                                   </span>│<span style=\"color: #808000; text-decoration-color: #808000\"> soil, water, or air, while others </span>│<span style=\"color: #008000; text-decoration-color: #008000\">                         </span>│<span style=\"color: #800080; text-decoration-color: #800080; font-weight: bold\">               </span>│\n",
       "│<span style=\"color: #7f7f7f; text-decoration-color: #7f7f7f\">                                   </span>│<span style=\"color: #808000; text-decoration-color: #808000\"> may obtain them from the food     </span>│<span style=\"color: #008000; text-decoration-color: #008000\">                         </span>│<span style=\"color: #800080; text-decoration-color: #800080; font-weight: bold\">               </span>│\n",
       "│<span style=\"color: #7f7f7f; text-decoration-color: #7f7f7f\">                                   </span>│<span style=\"color: #808000; text-decoration-color: #808000\"> they eat or from other organisms  </span>│<span style=\"color: #008000; text-decoration-color: #008000\">                         </span>│<span style=\"color: #800080; text-decoration-color: #800080; font-weight: bold\">               </span>│\n",
       "│<span style=\"color: #7f7f7f; text-decoration-color: #7f7f7f\">                                   </span>│<span style=\"color: #808000; text-decoration-color: #808000\"> that have ingested toxic          </span>│<span style=\"color: #008000; text-decoration-color: #008000\">                         </span>│<span style=\"color: #800080; text-decoration-color: #800080; font-weight: bold\">               </span>│\n",
       "│<span style=\"color: #7f7f7f; text-decoration-color: #7f7f7f\">                                   </span>│<span style=\"color: #808000; text-decoration-color: #808000\"> substances. Additionally, some    </span>│<span style=\"color: #008000; text-decoration-color: #008000\">                         </span>│<span style=\"color: #800080; text-decoration-color: #800080; font-weight: bold\">               </span>│\n",
       "│<span style=\"color: #7f7f7f; text-decoration-color: #7f7f7f\">                                   </span>│<span style=\"color: #808000; text-decoration-color: #808000\"> organisms may acquire toxic       </span>│<span style=\"color: #008000; text-decoration-color: #008000\">                         </span>│<span style=\"color: #800080; text-decoration-color: #800080; font-weight: bold\">               </span>│\n",
       "│<span style=\"color: #7f7f7f; text-decoration-color: #7f7f7f\">                                   </span>│<span style=\"color: #808000; text-decoration-color: #808000\"> substances through symbiotic      </span>│<span style=\"color: #008000; text-decoration-color: #008000\">                         </span>│<span style=\"color: #800080; text-decoration-color: #800080; font-weight: bold\">               </span>│\n",
       "│<span style=\"color: #7f7f7f; text-decoration-color: #7f7f7f\">                                   </span>│<span style=\"color: #808000; text-decoration-color: #808000\"> relationships, such as parasitism </span>│<span style=\"color: #008000; text-decoration-color: #008000\">                         </span>│<span style=\"color: #800080; text-decoration-color: #800080; font-weight: bold\">               </span>│\n",
       "│<span style=\"color: #7f7f7f; text-decoration-color: #7f7f7f\">                                   </span>│<span style=\"color: #808000; text-decoration-color: #808000\"> or endosymbiosis, where one       </span>│<span style=\"color: #008000; text-decoration-color: #008000\">                         </span>│<span style=\"color: #800080; text-decoration-color: #800080; font-weight: bold\">               </span>│\n",
       "│<span style=\"color: #7f7f7f; text-decoration-color: #7f7f7f\">                                   </span>│<span style=\"color: #808000; text-decoration-color: #808000\"> organism benefits and the other   </span>│<span style=\"color: #008000; text-decoration-color: #008000\">                         </span>│<span style=\"color: #800080; text-decoration-color: #800080; font-weight: bold\">               </span>│\n",
       "│<span style=\"color: #7f7f7f; text-decoration-color: #7f7f7f\">                                   </span>│<span style=\"color: #808000; text-decoration-color: #808000\"> is harmed. In some cases,         </span>│<span style=\"color: #008000; text-decoration-color: #008000\">                         </span>│<span style=\"color: #800080; text-decoration-color: #800080; font-weight: bold\">               </span>│\n",
       "│<span style=\"color: #7f7f7f; text-decoration-color: #7f7f7f\">                                   </span>│<span style=\"color: #808000; text-decoration-color: #808000\"> organisms may also acquire toxic  </span>│<span style=\"color: #008000; text-decoration-color: #008000\">                         </span>│<span style=\"color: #800080; text-decoration-color: #800080; font-weight: bold\">               </span>│\n",
       "│<span style=\"color: #7f7f7f; text-decoration-color: #7f7f7f\">                                   </span>│<span style=\"color: #808000; text-decoration-color: #808000\"> substances through genetic        </span>│<span style=\"color: #008000; text-decoration-color: #008000\">                         </span>│<span style=\"color: #800080; text-decoration-color: #800080; font-weight: bold\">               </span>│\n",
       "│<span style=\"color: #7f7f7f; text-decoration-color: #7f7f7f\">                                   </span>│<span style=\"color: #808000; text-decoration-color: #808000\"> mutations or other mechanisms     </span>│<span style=\"color: #008000; text-decoration-color: #008000\">                         </span>│<span style=\"color: #800080; text-decoration-color: #800080; font-weight: bold\">               </span>│\n",
       "│<span style=\"color: #7f7f7f; text-decoration-color: #7f7f7f\">                                   </span>│<span style=\"color: #808000; text-decoration-color: #808000\"> that allow them to survive and    </span>│<span style=\"color: #008000; text-decoration-color: #008000\">                         </span>│<span style=\"color: #800080; text-decoration-color: #800080; font-weight: bold\">               </span>│\n",
       "│<span style=\"color: #7f7f7f; text-decoration-color: #7f7f7f\">                                   </span>│<span style=\"color: #808000; text-decoration-color: #808000\"> thrive in environments with high  </span>│<span style=\"color: #008000; text-decoration-color: #008000\">                         </span>│<span style=\"color: #800080; text-decoration-color: #800080; font-weight: bold\">               </span>│\n",
       "│<span style=\"color: #7f7f7f; text-decoration-color: #7f7f7f\">                                   </span>│<span style=\"color: #808000; text-decoration-color: #808000\"> levels of toxic substances.       </span>│<span style=\"color: #008000; text-decoration-color: #008000\">                         </span>│<span style=\"color: #800080; text-decoration-color: #800080; font-weight: bold\">               </span>│\n",
       "│<span style=\"color: #7f7f7f; text-decoration-color: #7f7f7f\">                                   </span>│<span style=\"color: #808000; text-decoration-color: #808000\"> Overall, the acquisition of toxic </span>│<span style=\"color: #008000; text-decoration-color: #008000\">                         </span>│<span style=\"color: #800080; text-decoration-color: #800080; font-weight: bold\">               </span>│\n",
       "│<span style=\"color: #7f7f7f; text-decoration-color: #7f7f7f\">                                   </span>│<span style=\"color: #808000; text-decoration-color: #808000\"> substances is a critical aspect   </span>│<span style=\"color: #008000; text-decoration-color: #008000\">                         </span>│<span style=\"color: #800080; text-decoration-color: #800080; font-weight: bold\">               </span>│\n",
       "│<span style=\"color: #7f7f7f; text-decoration-color: #7f7f7f\">                                   </span>│<span style=\"color: #808000; text-decoration-color: #808000\"> of an organism's life cycle, and  </span>│<span style=\"color: #008000; text-decoration-color: #008000\">                         </span>│<span style=\"color: #800080; text-decoration-color: #800080; font-weight: bold\">               </span>│\n",
       "│<span style=\"color: #7f7f7f; text-decoration-color: #7f7f7f\">                                   </span>│<span style=\"color: #808000; text-decoration-color: #808000\"> it plays a key role in the        </span>│<span style=\"color: #008000; text-decoration-color: #008000\">                         </span>│<span style=\"color: #800080; text-decoration-color: #800080; font-weight: bold\">               </span>│\n",
       "│<span style=\"color: #7f7f7f; text-decoration-color: #7f7f7f\">                                   </span>│<span style=\"color: #808000; text-decoration-color: #808000\"> evolution and diversity of life   </span>│<span style=\"color: #008000; text-decoration-color: #008000\">                         </span>│<span style=\"color: #800080; text-decoration-color: #800080; font-weight: bold\">               </span>│\n",
       "│<span style=\"color: #7f7f7f; text-decoration-color: #7f7f7f\">                                   </span>│<span style=\"color: #808000; text-decoration-color: #808000\"> on Earth.                         </span>│<span style=\"color: #008000; text-decoration-color: #008000\">                         </span>│<span style=\"color: #800080; text-decoration-color: #800080; font-weight: bold\">               </span>│\n",
       "└───────────────────────────────────┴───────────────────────────────────┴─────────────────────────┴───────────────┘\n",
       "</pre>\n"
      ],
      "text/plain": [
       "┏━━━━━━━━━━━━━━━━━━━━━━━━━━━━━━━━━━━┳━━━━━━━━━━━━━━━━━━━━━━━━━━━━━━━━━━━┳━━━━━━━━━━━━━━━━━━━━━━━━━┳━━━━━━━━━━━━━━━┓\n",
       "┃\u001b[1;36m \u001b[0m\u001b[1;36mQuestion                         \u001b[0m\u001b[1;36m \u001b[0m┃\u001b[1;36m \u001b[0m\u001b[1;36mThinking                         \u001b[0m\u001b[1;36m \u001b[0m┃\u001b[1;36m \u001b[0m\u001b[1;36mLLM Answer             \u001b[0m\u001b[1;36m \u001b[0m┃\u001b[1;36m \u001b[0m\u001b[1;36mActual Answer\u001b[0m\u001b[1;36m \u001b[0m┃\n",
       "┡━━━━━━━━━━━━━━━━━━━━━━━━━━━━━━━━━━━╇━━━━━━━━━━━━━━━━━━━━━━━━━━━━━━━━━━━╇━━━━━━━━━━━━━━━━━━━━━━━━━╇━━━━━━━━━━━━━━━┩\n",
       "│\u001b[2m \u001b[0m\u001b[2mQuestion: Troy is thinking of    \u001b[0m\u001b[2m \u001b[0m│\u001b[33m \u001b[0m\u001b[33mTroy initially saved $50 and     \u001b[0m\u001b[33m \u001b[0m│\u001b[32m \u001b[0m\u001b[32m$10                    \u001b[0m\u001b[32m \u001b[0m│\u001b[1;35m \u001b[0m\u001b[1;35m10           \u001b[0m\u001b[1;35m \u001b[0m│\n",
       "│\u001b[2m \u001b[0m\u001b[2mbuying a new computer that is    \u001b[0m\u001b[2m \u001b[0m│\u001b[33m \u001b[0m\u001b[33mplans to sell his old computer   \u001b[0m\u001b[33m \u001b[0m│\u001b[32m                         \u001b[0m│\u001b[1;35m               \u001b[0m│\n",
       "│\u001b[2m \u001b[0m\u001b[2mworth $80. He has initially saved\u001b[0m\u001b[2m \u001b[0m│\u001b[33m \u001b[0m\u001b[33mfor $20. To find out how much    \u001b[0m\u001b[33m \u001b[0m│\u001b[32m                         \u001b[0m│\u001b[1;35m               \u001b[0m│\n",
       "│\u001b[2m \u001b[0m\u001b[2m$50 and plans to sell his old    \u001b[0m\u001b[2m \u001b[0m│\u001b[33m \u001b[0m\u001b[33mmore money he needs, we need to  \u001b[0m\u001b[33m \u001b[0m│\u001b[32m                         \u001b[0m│\u001b[1;35m               \u001b[0m│\n",
       "│\u001b[2m \u001b[0m\u001b[2mcomputer for $20. How much more  \u001b[0m\u001b[2m \u001b[0m│\u001b[33m \u001b[0m\u001b[33msubtract the amount he has from  \u001b[0m\u001b[33m \u001b[0m│\u001b[32m                         \u001b[0m│\u001b[1;35m               \u001b[0m│\n",
       "│\u001b[2m \u001b[0m\u001b[2mmoney does he need so he could   \u001b[0m\u001b[2m \u001b[0m│\u001b[33m \u001b[0m\u001b[33mthe price of the new computer:   \u001b[0m\u001b[33m \u001b[0m│\u001b[32m                         \u001b[0m│\u001b[1;35m               \u001b[0m│\n",
       "│\u001b[2m \u001b[0m\u001b[2mbuy the new computer?            \u001b[0m\u001b[2m \u001b[0m│\u001b[33m \u001b[0m\u001b[33m- The price of the new computer  \u001b[0m\u001b[33m \u001b[0m│\u001b[32m                         \u001b[0m│\u001b[1;35m               \u001b[0m│\n",
       "│\u001b[2m                                   \u001b[0m│\u001b[33m \u001b[0m\u001b[33mis $80.                          \u001b[0m\u001b[33m \u001b[0m│\u001b[32m                         \u001b[0m│\u001b[1;35m               \u001b[0m│\n",
       "│\u001b[2m                                   \u001b[0m│\u001b[33m \u001b[0m\u001b[33m- Troy has $50 initially.        \u001b[0m\u001b[33m \u001b[0m│\u001b[32m                         \u001b[0m│\u001b[1;35m               \u001b[0m│\n",
       "│\u001b[2m                                   \u001b[0m│\u001b[33m \u001b[0m\u001b[33m- He plans to sell his old       \u001b[0m\u001b[33m \u001b[0m│\u001b[32m                         \u001b[0m│\u001b[1;35m               \u001b[0m│\n",
       "│\u001b[2m                                   \u001b[0m│\u001b[33m \u001b[0m\u001b[33mcomputer for $20.                \u001b[0m\u001b[33m \u001b[0m│\u001b[32m                         \u001b[0m│\u001b[1;35m               \u001b[0m│\n",
       "│\u001b[2m                                   \u001b[0m│\u001b[33m \u001b[0m\u001b[33mThus, the amount he needs is $80 \u001b[0m\u001b[33m \u001b[0m│\u001b[32m                         \u001b[0m│\u001b[1;35m               \u001b[0m│\n",
       "│\u001b[2m                                   \u001b[0m│\u001b[33m \u001b[0m\u001b[33m- $50 - $20 = $10.               \u001b[0m\u001b[33m \u001b[0m│\u001b[32m                         \u001b[0m│\u001b[1;35m               \u001b[0m│\n",
       "│\u001b[2m \u001b[0m\u001b[2mQuestion: Where do organisms     \u001b[0m\u001b[2m \u001b[0m│\u001b[33m \u001b[0m\u001b[33mTo acquire toxic substances,     \u001b[0m\u001b[33m \u001b[0m│\u001b[32m \u001b[0m\u001b[32mOrganisms acquire toxic\u001b[0m\u001b[32m \u001b[0m│\u001b[1;35m \u001b[0m\u001b[1;35menvironment  \u001b[0m\u001b[1;35m \u001b[0m│\n",
       "│\u001b[2m \u001b[0m\u001b[2macquire toxic substances from    \u001b[0m\u001b[2m \u001b[0m│\u001b[33m \u001b[0m\u001b[33morganisms typically obtain them  \u001b[0m\u001b[33m \u001b[0m│\u001b[32m \u001b[0m\u001b[32msubstances from their  \u001b[0m\u001b[32m \u001b[0m│\u001b[1;35m               \u001b[0m│\n",
       "│\u001b[2m \u001b[0m\u001b[2malong with nutrients and water?  \u001b[0m\u001b[2m \u001b[0m│\u001b[33m \u001b[0m\u001b[33mfrom their environment, such as  \u001b[0m\u001b[33m \u001b[0m│\u001b[32m \u001b[0m\u001b[32menvironment, such as   \u001b[0m\u001b[32m \u001b[0m│\u001b[1;35m               \u001b[0m│\n",
       "│\u001b[2m                                   \u001b[0m│\u001b[33m \u001b[0m\u001b[33mthrough the consumption of       \u001b[0m\u001b[33m \u001b[0m│\u001b[32m \u001b[0m\u001b[32mthrough the consumption\u001b[0m\u001b[32m \u001b[0m│\u001b[1;35m               \u001b[0m│\n",
       "│\u001b[2m                                   \u001b[0m│\u001b[33m \u001b[0m\u001b[33mcontaminated food, water, or air.\u001b[0m\u001b[33m \u001b[0m│\u001b[32m \u001b[0m\u001b[32mof contaminated food,  \u001b[0m\u001b[32m \u001b[0m│\u001b[1;35m               \u001b[0m│\n",
       "│\u001b[2m                                   \u001b[0m│\u001b[33m \u001b[0m\u001b[33mThese toxic substances can come  \u001b[0m\u001b[33m \u001b[0m│\u001b[32m \u001b[0m\u001b[32mwater, or air, and from\u001b[0m\u001b[32m \u001b[0m│\u001b[1;35m               \u001b[0m│\n",
       "│\u001b[2m                                   \u001b[0m│\u001b[33m \u001b[0m\u001b[33mfrom various sources, including  \u001b[0m\u001b[33m \u001b[0m│\u001b[32m \u001b[0m\u001b[32mother organisms that   \u001b[0m\u001b[32m \u001b[0m│\u001b[1;35m               \u001b[0m│\n",
       "│\u001b[2m                                   \u001b[0m│\u001b[33m \u001b[0m\u001b[33mpollutants, toxins, and          \u001b[0m\u001b[33m \u001b[0m│\u001b[32m \u001b[0m\u001b[32mhave ingested toxic    \u001b[0m\u001b[32m \u001b[0m│\u001b[1;35m               \u001b[0m│\n",
       "│\u001b[2m                                   \u001b[0m│\u001b[33m \u001b[0m\u001b[33mpathogens. For example, some     \u001b[0m\u001b[33m \u001b[0m│\u001b[32m \u001b[0m\u001b[32msubstances.            \u001b[0m\u001b[32m \u001b[0m│\u001b[1;35m               \u001b[0m│\n",
       "│\u001b[2m                                   \u001b[0m│\u001b[33m \u001b[0m\u001b[33morganisms may acquire toxic      \u001b[0m\u001b[33m \u001b[0m│\u001b[32m                         \u001b[0m│\u001b[1;35m               \u001b[0m│\n",
       "│\u001b[2m                                   \u001b[0m│\u001b[33m \u001b[0m\u001b[33msubstances from contaminated     \u001b[0m\u001b[33m \u001b[0m│\u001b[32m                         \u001b[0m│\u001b[1;35m               \u001b[0m│\n",
       "│\u001b[2m                                   \u001b[0m│\u001b[33m \u001b[0m\u001b[33msoil, water, or air, while others\u001b[0m\u001b[33m \u001b[0m│\u001b[32m                         \u001b[0m│\u001b[1;35m               \u001b[0m│\n",
       "│\u001b[2m                                   \u001b[0m│\u001b[33m \u001b[0m\u001b[33mmay obtain them from the food    \u001b[0m\u001b[33m \u001b[0m│\u001b[32m                         \u001b[0m│\u001b[1;35m               \u001b[0m│\n",
       "│\u001b[2m                                   \u001b[0m│\u001b[33m \u001b[0m\u001b[33mthey eat or from other organisms \u001b[0m\u001b[33m \u001b[0m│\u001b[32m                         \u001b[0m│\u001b[1;35m               \u001b[0m│\n",
       "│\u001b[2m                                   \u001b[0m│\u001b[33m \u001b[0m\u001b[33mthat have ingested toxic         \u001b[0m\u001b[33m \u001b[0m│\u001b[32m                         \u001b[0m│\u001b[1;35m               \u001b[0m│\n",
       "│\u001b[2m                                   \u001b[0m│\u001b[33m \u001b[0m\u001b[33msubstances. Additionally, some   \u001b[0m\u001b[33m \u001b[0m│\u001b[32m                         \u001b[0m│\u001b[1;35m               \u001b[0m│\n",
       "│\u001b[2m                                   \u001b[0m│\u001b[33m \u001b[0m\u001b[33morganisms may acquire toxic      \u001b[0m\u001b[33m \u001b[0m│\u001b[32m                         \u001b[0m│\u001b[1;35m               \u001b[0m│\n",
       "│\u001b[2m                                   \u001b[0m│\u001b[33m \u001b[0m\u001b[33msubstances through symbiotic     \u001b[0m\u001b[33m \u001b[0m│\u001b[32m                         \u001b[0m│\u001b[1;35m               \u001b[0m│\n",
       "│\u001b[2m                                   \u001b[0m│\u001b[33m \u001b[0m\u001b[33mrelationships, such as parasitism\u001b[0m\u001b[33m \u001b[0m│\u001b[32m                         \u001b[0m│\u001b[1;35m               \u001b[0m│\n",
       "│\u001b[2m                                   \u001b[0m│\u001b[33m \u001b[0m\u001b[33mor endosymbiosis, where one      \u001b[0m\u001b[33m \u001b[0m│\u001b[32m                         \u001b[0m│\u001b[1;35m               \u001b[0m│\n",
       "│\u001b[2m                                   \u001b[0m│\u001b[33m \u001b[0m\u001b[33morganism benefits and the other  \u001b[0m\u001b[33m \u001b[0m│\u001b[32m                         \u001b[0m│\u001b[1;35m               \u001b[0m│\n",
       "│\u001b[2m                                   \u001b[0m│\u001b[33m \u001b[0m\u001b[33mis harmed. In some cases,        \u001b[0m\u001b[33m \u001b[0m│\u001b[32m                         \u001b[0m│\u001b[1;35m               \u001b[0m│\n",
       "│\u001b[2m                                   \u001b[0m│\u001b[33m \u001b[0m\u001b[33morganisms may also acquire toxic \u001b[0m\u001b[33m \u001b[0m│\u001b[32m                         \u001b[0m│\u001b[1;35m               \u001b[0m│\n",
       "│\u001b[2m                                   \u001b[0m│\u001b[33m \u001b[0m\u001b[33msubstances through genetic       \u001b[0m\u001b[33m \u001b[0m│\u001b[32m                         \u001b[0m│\u001b[1;35m               \u001b[0m│\n",
       "│\u001b[2m                                   \u001b[0m│\u001b[33m \u001b[0m\u001b[33mmutations or other mechanisms    \u001b[0m\u001b[33m \u001b[0m│\u001b[32m                         \u001b[0m│\u001b[1;35m               \u001b[0m│\n",
       "│\u001b[2m                                   \u001b[0m│\u001b[33m \u001b[0m\u001b[33mthat allow them to survive and   \u001b[0m\u001b[33m \u001b[0m│\u001b[32m                         \u001b[0m│\u001b[1;35m               \u001b[0m│\n",
       "│\u001b[2m                                   \u001b[0m│\u001b[33m \u001b[0m\u001b[33mthrive in environments with high \u001b[0m\u001b[33m \u001b[0m│\u001b[32m                         \u001b[0m│\u001b[1;35m               \u001b[0m│\n",
       "│\u001b[2m                                   \u001b[0m│\u001b[33m \u001b[0m\u001b[33mlevels of toxic substances.      \u001b[0m\u001b[33m \u001b[0m│\u001b[32m                         \u001b[0m│\u001b[1;35m               \u001b[0m│\n",
       "│\u001b[2m                                   \u001b[0m│\u001b[33m \u001b[0m\u001b[33mOverall, the acquisition of toxic\u001b[0m\u001b[33m \u001b[0m│\u001b[32m                         \u001b[0m│\u001b[1;35m               \u001b[0m│\n",
       "│\u001b[2m                                   \u001b[0m│\u001b[33m \u001b[0m\u001b[33msubstances is a critical aspect  \u001b[0m\u001b[33m \u001b[0m│\u001b[32m                         \u001b[0m│\u001b[1;35m               \u001b[0m│\n",
       "│\u001b[2m                                   \u001b[0m│\u001b[33m \u001b[0m\u001b[33mof an organism's life cycle, and \u001b[0m\u001b[33m \u001b[0m│\u001b[32m                         \u001b[0m│\u001b[1;35m               \u001b[0m│\n",
       "│\u001b[2m                                   \u001b[0m│\u001b[33m \u001b[0m\u001b[33mit plays a key role in the       \u001b[0m\u001b[33m \u001b[0m│\u001b[32m                         \u001b[0m│\u001b[1;35m               \u001b[0m│\n",
       "│\u001b[2m                                   \u001b[0m│\u001b[33m \u001b[0m\u001b[33mevolution and diversity of life  \u001b[0m\u001b[33m \u001b[0m│\u001b[32m                         \u001b[0m│\u001b[1;35m               \u001b[0m│\n",
       "│\u001b[2m                                   \u001b[0m│\u001b[33m \u001b[0m\u001b[33mon Earth.                        \u001b[0m\u001b[33m \u001b[0m│\u001b[32m                         \u001b[0m│\u001b[1;35m               \u001b[0m│\n",
       "└───────────────────────────────────┴───────────────────────────────────┴─────────────────────────┴───────────────┘\n"
      ]
     },
     "metadata": {},
     "output_type": "display_data"
    }
   ],
   "source": [
    "sample_and_print()"
   ]
  }
 ],
 "metadata": {
  "kernelspec": {
   "display_name": "venv",
   "language": "python",
   "name": "python3"
  },
  "language_info": {
   "codemirror_mode": {
    "name": "ipython",
    "version": 3
   },
   "file_extension": ".py",
   "mimetype": "text/x-python",
   "name": "python",
   "nbconvert_exporter": "python",
   "pygments_lexer": "ipython3",
   "version": "3.11.10"
  }
 },
 "nbformat": 4,
 "nbformat_minor": 2
}
